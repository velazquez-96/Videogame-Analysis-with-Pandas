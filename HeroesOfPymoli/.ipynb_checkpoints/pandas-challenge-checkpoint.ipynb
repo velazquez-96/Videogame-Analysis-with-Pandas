{
 "cells": [
  {
   "cell_type": "markdown",
   "metadata": {},
   "source": [
    "# Heroes of Pymolly: Observable trends\n",
    "* According to the analysis of gender demographics, the majority of the players of Heroes of Pymolly are men, covering 84% of total players, followed by women with 14.03%. \n",
    "* Even though men are the ones that make more purchases, and therefore their purchase value is the highest, the ones that are classified as Other/non-disclosed tend to spend more in their purchases with an average of \\\\$4.56 per person, followed by women with an average purchase per person of \\\\$4.47 per person.\n",
    "* Within the age demographic analysis it can be seen that most of the players of the game are those in the 20-24 age range, with 44.79%,  followed by people in the 15-19 age range with 18.58%. \n",
    "* As before, people between 20 and 24 years old accumulate most of the purchases and therefore the highest pruchase value, however, people between 35 and 39 years old and children under 10 years old tend to spend more, with \\\\$4.76 and \\\\$4.54 per person.\n"
   ]
  },
  {
   "cell_type": "code",
   "execution_count": 1,
   "metadata": {},
   "outputs": [],
   "source": [
    "import pandas as pd\n",
    "import numpy as np"
   ]
  },
  {
   "cell_type": "code",
   "execution_count": 2,
   "metadata": {},
   "outputs": [
    {
     "data": {
      "text/html": [
       "<div>\n",
       "<style scoped>\n",
       "    .dataframe tbody tr th:only-of-type {\n",
       "        vertical-align: middle;\n",
       "    }\n",
       "\n",
       "    .dataframe tbody tr th {\n",
       "        vertical-align: top;\n",
       "    }\n",
       "\n",
       "    .dataframe thead th {\n",
       "        text-align: right;\n",
       "    }\n",
       "</style>\n",
       "<table border=\"1\" class=\"dataframe\">\n",
       "  <thead>\n",
       "    <tr style=\"text-align: right;\">\n",
       "      <th></th>\n",
       "      <th>Purchase ID</th>\n",
       "      <th>SN</th>\n",
       "      <th>Age</th>\n",
       "      <th>Gender</th>\n",
       "      <th>Item ID</th>\n",
       "      <th>Item Name</th>\n",
       "      <th>Price</th>\n",
       "    </tr>\n",
       "  </thead>\n",
       "  <tbody>\n",
       "    <tr>\n",
       "      <th>0</th>\n",
       "      <td>0</td>\n",
       "      <td>Lisim78</td>\n",
       "      <td>20</td>\n",
       "      <td>Male</td>\n",
       "      <td>108</td>\n",
       "      <td>Extraction, Quickblade Of Trembling Hands</td>\n",
       "      <td>3.53</td>\n",
       "    </tr>\n",
       "    <tr>\n",
       "      <th>1</th>\n",
       "      <td>1</td>\n",
       "      <td>Lisovynya38</td>\n",
       "      <td>40</td>\n",
       "      <td>Male</td>\n",
       "      <td>143</td>\n",
       "      <td>Frenzied Scimitar</td>\n",
       "      <td>1.56</td>\n",
       "    </tr>\n",
       "    <tr>\n",
       "      <th>2</th>\n",
       "      <td>2</td>\n",
       "      <td>Ithergue48</td>\n",
       "      <td>24</td>\n",
       "      <td>Male</td>\n",
       "      <td>92</td>\n",
       "      <td>Final Critic</td>\n",
       "      <td>4.88</td>\n",
       "    </tr>\n",
       "    <tr>\n",
       "      <th>3</th>\n",
       "      <td>3</td>\n",
       "      <td>Chamassasya86</td>\n",
       "      <td>24</td>\n",
       "      <td>Male</td>\n",
       "      <td>100</td>\n",
       "      <td>Blindscythe</td>\n",
       "      <td>3.27</td>\n",
       "    </tr>\n",
       "    <tr>\n",
       "      <th>4</th>\n",
       "      <td>4</td>\n",
       "      <td>Iskosia90</td>\n",
       "      <td>23</td>\n",
       "      <td>Male</td>\n",
       "      <td>131</td>\n",
       "      <td>Fury</td>\n",
       "      <td>1.44</td>\n",
       "    </tr>\n",
       "  </tbody>\n",
       "</table>\n",
       "</div>"
      ],
      "text/plain": [
       "   Purchase ID             SN  Age Gender  Item ID  \\\n",
       "0            0        Lisim78   20   Male      108   \n",
       "1            1    Lisovynya38   40   Male      143   \n",
       "2            2     Ithergue48   24   Male       92   \n",
       "3            3  Chamassasya86   24   Male      100   \n",
       "4            4      Iskosia90   23   Male      131   \n",
       "\n",
       "                                   Item Name  Price  \n",
       "0  Extraction, Quickblade Of Trembling Hands   3.53  \n",
       "1                          Frenzied Scimitar   1.56  \n",
       "2                               Final Critic   4.88  \n",
       "3                                Blindscythe   3.27  \n",
       "4                                       Fury   1.44  "
      ]
     },
     "execution_count": 2,
     "metadata": {},
     "output_type": "execute_result"
    }
   ],
   "source": [
    "path = \"../Resources/02-Homework_04-Pandas_Instructions_HeroesOfPymoli_Resources_purchase_data.csv\"\n",
    "df = pd.read_csv(path)\n",
    "df.head()"
   ]
  },
  {
   "cell_type": "markdown",
   "metadata": {},
   "source": [
    "# Player Count"
   ]
  },
  {
   "cell_type": "code",
   "execution_count": 3,
   "metadata": {},
   "outputs": [],
   "source": [
    "Total_players = df[\"SN\"].value_counts().size"
   ]
  },
  {
   "cell_type": "code",
   "execution_count": 4,
   "metadata": {
    "scrolled": true
   },
   "outputs": [],
   "source": [
    "Total_Players_df = pd.DataFrame({\"Total Players\": [Total_players]})"
   ]
  },
  {
   "cell_type": "code",
   "execution_count": 5,
   "metadata": {},
   "outputs": [
    {
     "data": {
      "text/html": [
       "<style  type=\"text/css\" >\n",
       "    #T_1aec60dc_85ae_11ea_98f5_10ddb1c77f91row0_col0 {\n",
       "            text-align:  left;\n",
       "        }</style><table id=\"T_1aec60dc_85ae_11ea_98f5_10ddb1c77f91\" ><thead>    <tr>        <th class=\"blank level0\" ></th>        <th class=\"col_heading level0 col0\" >Total Players</th>    </tr></thead><tbody>\n",
       "                <tr>\n",
       "                        <th id=\"T_1aec60dc_85ae_11ea_98f5_10ddb1c77f91level0_row0\" class=\"row_heading level0 row0\" >0</th>\n",
       "                        <td id=\"T_1aec60dc_85ae_11ea_98f5_10ddb1c77f91row0_col0\" class=\"data row0 col0\" >576</td>\n",
       "            </tr>\n",
       "    </tbody></table>"
      ],
      "text/plain": [
       "<pandas.io.formats.style.Styler at 0x1202f0fd0>"
      ]
     },
     "execution_count": 5,
     "metadata": {},
     "output_type": "execute_result"
    }
   ],
   "source": [
    "Total_Players_df = Total_Players_df.style.set_properties(**{'text-align': 'left'})\n",
    "Total_Players_df"
   ]
  },
  {
   "cell_type": "markdown",
   "metadata": {},
   "source": [
    "# Purchasing analysis (Total)"
   ]
  },
  {
   "cell_type": "code",
   "execution_count": 6,
   "metadata": {},
   "outputs": [],
   "source": [
    "Purchases = df[\"Item Name\"].count()"
   ]
  },
  {
   "cell_type": "code",
   "execution_count": 7,
   "metadata": {},
   "outputs": [],
   "source": [
    "Unique_items = df[\"Item Name\"].unique().size"
   ]
  },
  {
   "cell_type": "code",
   "execution_count": 8,
   "metadata": {},
   "outputs": [],
   "source": [
    "average_price = df[\"Price\"].mean()"
   ]
  },
  {
   "cell_type": "code",
   "execution_count": 9,
   "metadata": {},
   "outputs": [],
   "source": [
    "Total_revenue = df[\"Price\"].sum()"
   ]
  },
  {
   "cell_type": "code",
   "execution_count": 10,
   "metadata": {
    "scrolled": true
   },
   "outputs": [],
   "source": [
    "Purchasing_analysis = pd.DataFrame({\n",
    "    \"Unique items\": [Unique_items],\n",
    "    \"Average Price\": [average_price],\n",
    "    \"Number of Purchases\" : [Purchases],\n",
    "    \"Total revenue\": [Total_revenue]    \n",
    "})"
   ]
  },
  {
   "cell_type": "code",
   "execution_count": 11,
   "metadata": {
    "scrolled": true
   },
   "outputs": [],
   "source": [
    "Purchasing_analysis = Purchasing_analysis.style.format({\"Average Price\":\"${:.2f}\",\n",
    "                                                      \"Total revenue\":\"${:,}\"}).set_properties(\n",
    "    **{'text-align': 'left'})"
   ]
  },
  {
   "cell_type": "code",
   "execution_count": 12,
   "metadata": {},
   "outputs": [
    {
     "data": {
      "text/html": [
       "<style  type=\"text/css\" >\n",
       "    #T_1b07073e_85ae_11ea_98f5_10ddb1c77f91row0_col0 {\n",
       "            text-align:  left;\n",
       "        }    #T_1b07073e_85ae_11ea_98f5_10ddb1c77f91row0_col1 {\n",
       "            text-align:  left;\n",
       "        }    #T_1b07073e_85ae_11ea_98f5_10ddb1c77f91row0_col2 {\n",
       "            text-align:  left;\n",
       "        }    #T_1b07073e_85ae_11ea_98f5_10ddb1c77f91row0_col3 {\n",
       "            text-align:  left;\n",
       "        }</style><table id=\"T_1b07073e_85ae_11ea_98f5_10ddb1c77f91\" ><thead>    <tr>        <th class=\"blank level0\" ></th>        <th class=\"col_heading level0 col0\" >Unique items</th>        <th class=\"col_heading level0 col1\" >Average Price</th>        <th class=\"col_heading level0 col2\" >Number of Purchases</th>        <th class=\"col_heading level0 col3\" >Total revenue</th>    </tr></thead><tbody>\n",
       "                <tr>\n",
       "                        <th id=\"T_1b07073e_85ae_11ea_98f5_10ddb1c77f91level0_row0\" class=\"row_heading level0 row0\" >0</th>\n",
       "                        <td id=\"T_1b07073e_85ae_11ea_98f5_10ddb1c77f91row0_col0\" class=\"data row0 col0\" >179</td>\n",
       "                        <td id=\"T_1b07073e_85ae_11ea_98f5_10ddb1c77f91row0_col1\" class=\"data row0 col1\" >$3.05</td>\n",
       "                        <td id=\"T_1b07073e_85ae_11ea_98f5_10ddb1c77f91row0_col2\" class=\"data row0 col2\" >780</td>\n",
       "                        <td id=\"T_1b07073e_85ae_11ea_98f5_10ddb1c77f91row0_col3\" class=\"data row0 col3\" >$2,379.77</td>\n",
       "            </tr>\n",
       "    </tbody></table>"
      ],
      "text/plain": [
       "<pandas.io.formats.style.Styler at 0x1212aff50>"
      ]
     },
     "execution_count": 12,
     "metadata": {},
     "output_type": "execute_result"
    }
   ],
   "source": [
    "Purchasing_analysis"
   ]
  },
  {
   "cell_type": "markdown",
   "metadata": {},
   "source": [
    "# Gender Demographics"
   ]
  },
  {
   "cell_type": "code",
   "execution_count": 13,
   "metadata": {},
   "outputs": [],
   "source": [
    "male = df.loc[df[\"Gender\"]==\"Male\", \"SN\"].value_counts().size"
   ]
  },
  {
   "cell_type": "code",
   "execution_count": 14,
   "metadata": {},
   "outputs": [],
   "source": [
    "female = df.loc[df[\"Gender\"]==\"Female\", \"SN\"].value_counts().size"
   ]
  },
  {
   "cell_type": "code",
   "execution_count": 15,
   "metadata": {},
   "outputs": [],
   "source": [
    "Other = df.loc[df[\"Gender\"]==\"Other / Non-Disclosed\", \"SN\"].value_counts().size"
   ]
  },
  {
   "cell_type": "code",
   "execution_count": 16,
   "metadata": {},
   "outputs": [],
   "source": [
    "gender_demographics_df = pd.DataFrame({\n",
    "    \"Gender\": [\"Male\", \"Female\", \"Other/Non-Disclosed\"],\n",
    "    \"Total Count\":[male, female, Other], \n",
    "    \"Percentage of players\": [(male/Total_players),\n",
    "                              (female/Total_players), \n",
    "                              (Other/Total_players)]\n",
    "})"
   ]
  },
  {
   "cell_type": "code",
   "execution_count": 17,
   "metadata": {},
   "outputs": [],
   "source": [
    "gender_demographics_df = gender_demographics_df.set_index(\"Gender\")"
   ]
  },
  {
   "cell_type": "code",
   "execution_count": 18,
   "metadata": {
    "scrolled": false
   },
   "outputs": [
    {
     "data": {
      "text/html": [
       "<style  type=\"text/css\" >\n",
       "    #T_1b200be4_85ae_11ea_98f5_10ddb1c77f91row0_col0 {\n",
       "            text-align:  left;\n",
       "        }    #T_1b200be4_85ae_11ea_98f5_10ddb1c77f91row0_col1 {\n",
       "            text-align:  left;\n",
       "        }    #T_1b200be4_85ae_11ea_98f5_10ddb1c77f91row1_col0 {\n",
       "            text-align:  left;\n",
       "        }    #T_1b200be4_85ae_11ea_98f5_10ddb1c77f91row1_col1 {\n",
       "            text-align:  left;\n",
       "        }    #T_1b200be4_85ae_11ea_98f5_10ddb1c77f91row2_col0 {\n",
       "            text-align:  left;\n",
       "        }    #T_1b200be4_85ae_11ea_98f5_10ddb1c77f91row2_col1 {\n",
       "            text-align:  left;\n",
       "        }</style><table id=\"T_1b200be4_85ae_11ea_98f5_10ddb1c77f91\" ><thead>    <tr>        <th class=\"blank level0\" ></th>        <th class=\"col_heading level0 col0\" >Total Count</th>        <th class=\"col_heading level0 col1\" >Percentage of players</th>    </tr>    <tr>        <th class=\"index_name level0\" >Gender</th>        <th class=\"blank\" ></th>        <th class=\"blank\" ></th>    </tr></thead><tbody>\n",
       "                <tr>\n",
       "                        <th id=\"T_1b200be4_85ae_11ea_98f5_10ddb1c77f91level0_row0\" class=\"row_heading level0 row0\" >Male</th>\n",
       "                        <td id=\"T_1b200be4_85ae_11ea_98f5_10ddb1c77f91row0_col0\" class=\"data row0 col0\" >484</td>\n",
       "                        <td id=\"T_1b200be4_85ae_11ea_98f5_10ddb1c77f91row0_col1\" class=\"data row0 col1\" >84.03%</td>\n",
       "            </tr>\n",
       "            <tr>\n",
       "                        <th id=\"T_1b200be4_85ae_11ea_98f5_10ddb1c77f91level0_row1\" class=\"row_heading level0 row1\" >Female</th>\n",
       "                        <td id=\"T_1b200be4_85ae_11ea_98f5_10ddb1c77f91row1_col0\" class=\"data row1 col0\" >81</td>\n",
       "                        <td id=\"T_1b200be4_85ae_11ea_98f5_10ddb1c77f91row1_col1\" class=\"data row1 col1\" >14.06%</td>\n",
       "            </tr>\n",
       "            <tr>\n",
       "                        <th id=\"T_1b200be4_85ae_11ea_98f5_10ddb1c77f91level0_row2\" class=\"row_heading level0 row2\" >Other/Non-Disclosed</th>\n",
       "                        <td id=\"T_1b200be4_85ae_11ea_98f5_10ddb1c77f91row2_col0\" class=\"data row2 col0\" >11</td>\n",
       "                        <td id=\"T_1b200be4_85ae_11ea_98f5_10ddb1c77f91row2_col1\" class=\"data row2 col1\" >1.91%</td>\n",
       "            </tr>\n",
       "    </tbody></table>"
      ],
      "text/plain": [
       "<pandas.io.formats.style.Styler at 0x121494a90>"
      ]
     },
     "execution_count": 18,
     "metadata": {},
     "output_type": "execute_result"
    }
   ],
   "source": [
    "gender_demographics_final = gender_demographics_df.style.format({\n",
    "    'Percentage of players': '{:.2%}'}).set_properties(\n",
    "    **{'text-align': 'left'})\n",
    "gender_demographics_final"
   ]
  },
  {
   "cell_type": "markdown",
   "metadata": {},
   "source": [
    "# Purchasing Analysis (Gender)"
   ]
  },
  {
   "cell_type": "code",
   "execution_count": 19,
   "metadata": {
    "scrolled": true
   },
   "outputs": [],
   "source": [
    "data_gender = df.groupby(\"Gender\").agg({\"SN\":\"count\", \"Price\":[\"mean\", \"sum\"]})"
   ]
  },
  {
   "cell_type": "code",
   "execution_count": 20,
   "metadata": {},
   "outputs": [],
   "source": [
    "data_gender.columns = data_gender.columns.droplevel(0)"
   ]
  },
  {
   "cell_type": "code",
   "execution_count": 21,
   "metadata": {},
   "outputs": [],
   "source": [
    "gender_nums = [81,484,11]"
   ]
  },
  {
   "cell_type": "code",
   "execution_count": 22,
   "metadata": {
    "scrolled": true
   },
   "outputs": [],
   "source": [
    "data_gender[\"Avg Total Purchase per Person\"] = data_gender[\"sum\"]/gender_nums"
   ]
  },
  {
   "cell_type": "code",
   "execution_count": 23,
   "metadata": {},
   "outputs": [],
   "source": [
    "data_gender = data_gender.rename(columns={\"count\":\"Purchase Count\", \n",
    "                            \"mean\":\"Average Purchase Price\",\n",
    "                           \"sum\": \"Total Purchase Value\"})"
   ]
  },
  {
   "cell_type": "code",
   "execution_count": 24,
   "metadata": {
    "scrolled": true
   },
   "outputs": [],
   "source": [
    "data_gender = data_gender.style.format({\"Average Purchase Price\":\"${:.2f}\",\n",
    "                                       \"Total Purchase Value\":\"${:,.2f}\",\n",
    "                                       \"Avg Total Purchase per Person\":\"${:.2f}\"\n",
    "                                       }).highlight_max(color=\"green\").set_properties(\n",
    "    **{'text-align': 'left'})"
   ]
  },
  {
   "cell_type": "code",
   "execution_count": 25,
   "metadata": {},
   "outputs": [
    {
     "data": {
      "text/html": [
       "<style  type=\"text/css\" >\n",
       "    #T_1b56b3d8_85ae_11ea_98f5_10ddb1c77f91row0_col0 {\n",
       "            : ;\n",
       "            text-align:  left;\n",
       "        }    #T_1b56b3d8_85ae_11ea_98f5_10ddb1c77f91row0_col1 {\n",
       "            : ;\n",
       "            text-align:  left;\n",
       "        }    #T_1b56b3d8_85ae_11ea_98f5_10ddb1c77f91row0_col2 {\n",
       "            : ;\n",
       "            text-align:  left;\n",
       "        }    #T_1b56b3d8_85ae_11ea_98f5_10ddb1c77f91row0_col3 {\n",
       "            : ;\n",
       "            text-align:  left;\n",
       "        }    #T_1b56b3d8_85ae_11ea_98f5_10ddb1c77f91row1_col0 {\n",
       "            background-color:  green;\n",
       "            text-align:  left;\n",
       "        }    #T_1b56b3d8_85ae_11ea_98f5_10ddb1c77f91row1_col1 {\n",
       "            : ;\n",
       "            text-align:  left;\n",
       "        }    #T_1b56b3d8_85ae_11ea_98f5_10ddb1c77f91row1_col2 {\n",
       "            background-color:  green;\n",
       "            text-align:  left;\n",
       "        }    #T_1b56b3d8_85ae_11ea_98f5_10ddb1c77f91row1_col3 {\n",
       "            : ;\n",
       "            text-align:  left;\n",
       "        }    #T_1b56b3d8_85ae_11ea_98f5_10ddb1c77f91row2_col0 {\n",
       "            : ;\n",
       "            text-align:  left;\n",
       "        }    #T_1b56b3d8_85ae_11ea_98f5_10ddb1c77f91row2_col1 {\n",
       "            background-color:  green;\n",
       "            text-align:  left;\n",
       "        }    #T_1b56b3d8_85ae_11ea_98f5_10ddb1c77f91row2_col2 {\n",
       "            : ;\n",
       "            text-align:  left;\n",
       "        }    #T_1b56b3d8_85ae_11ea_98f5_10ddb1c77f91row2_col3 {\n",
       "            background-color:  green;\n",
       "            text-align:  left;\n",
       "        }</style><table id=\"T_1b56b3d8_85ae_11ea_98f5_10ddb1c77f91\" ><thead>    <tr>        <th class=\"blank level0\" ></th>        <th class=\"col_heading level0 col0\" >Purchase Count</th>        <th class=\"col_heading level0 col1\" >Average Purchase Price</th>        <th class=\"col_heading level0 col2\" >Total Purchase Value</th>        <th class=\"col_heading level0 col3\" >Avg Total Purchase per Person</th>    </tr>    <tr>        <th class=\"index_name level0\" >Gender</th>        <th class=\"blank\" ></th>        <th class=\"blank\" ></th>        <th class=\"blank\" ></th>        <th class=\"blank\" ></th>    </tr></thead><tbody>\n",
       "                <tr>\n",
       "                        <th id=\"T_1b56b3d8_85ae_11ea_98f5_10ddb1c77f91level0_row0\" class=\"row_heading level0 row0\" >Female</th>\n",
       "                        <td id=\"T_1b56b3d8_85ae_11ea_98f5_10ddb1c77f91row0_col0\" class=\"data row0 col0\" >113</td>\n",
       "                        <td id=\"T_1b56b3d8_85ae_11ea_98f5_10ddb1c77f91row0_col1\" class=\"data row0 col1\" >$3.20</td>\n",
       "                        <td id=\"T_1b56b3d8_85ae_11ea_98f5_10ddb1c77f91row0_col2\" class=\"data row0 col2\" >$361.94</td>\n",
       "                        <td id=\"T_1b56b3d8_85ae_11ea_98f5_10ddb1c77f91row0_col3\" class=\"data row0 col3\" >$4.47</td>\n",
       "            </tr>\n",
       "            <tr>\n",
       "                        <th id=\"T_1b56b3d8_85ae_11ea_98f5_10ddb1c77f91level0_row1\" class=\"row_heading level0 row1\" >Male</th>\n",
       "                        <td id=\"T_1b56b3d8_85ae_11ea_98f5_10ddb1c77f91row1_col0\" class=\"data row1 col0\" >652</td>\n",
       "                        <td id=\"T_1b56b3d8_85ae_11ea_98f5_10ddb1c77f91row1_col1\" class=\"data row1 col1\" >$3.02</td>\n",
       "                        <td id=\"T_1b56b3d8_85ae_11ea_98f5_10ddb1c77f91row1_col2\" class=\"data row1 col2\" >$1,967.64</td>\n",
       "                        <td id=\"T_1b56b3d8_85ae_11ea_98f5_10ddb1c77f91row1_col3\" class=\"data row1 col3\" >$4.07</td>\n",
       "            </tr>\n",
       "            <tr>\n",
       "                        <th id=\"T_1b56b3d8_85ae_11ea_98f5_10ddb1c77f91level0_row2\" class=\"row_heading level0 row2\" >Other / Non-Disclosed</th>\n",
       "                        <td id=\"T_1b56b3d8_85ae_11ea_98f5_10ddb1c77f91row2_col0\" class=\"data row2 col0\" >15</td>\n",
       "                        <td id=\"T_1b56b3d8_85ae_11ea_98f5_10ddb1c77f91row2_col1\" class=\"data row2 col1\" >$3.35</td>\n",
       "                        <td id=\"T_1b56b3d8_85ae_11ea_98f5_10ddb1c77f91row2_col2\" class=\"data row2 col2\" >$50.19</td>\n",
       "                        <td id=\"T_1b56b3d8_85ae_11ea_98f5_10ddb1c77f91row2_col3\" class=\"data row2 col3\" >$4.56</td>\n",
       "            </tr>\n",
       "    </tbody></table>"
      ],
      "text/plain": [
       "<pandas.io.formats.style.Styler at 0x12147f790>"
      ]
     },
     "execution_count": 25,
     "metadata": {},
     "output_type": "execute_result"
    }
   ],
   "source": [
    "data_gender"
   ]
  },
  {
   "cell_type": "markdown",
   "metadata": {},
   "source": [
    "# Age Demographics"
   ]
  },
  {
   "cell_type": "code",
   "execution_count": 26,
   "metadata": {},
   "outputs": [],
   "source": [
    "bins = [0,9,14,19,24,29,34,39,150]\n",
    "labels = [\"<10\", \"10-14\", \"15-19\", \"20-24\", \"25-29\", \"30-34\", \"35-39\", \"40+\"]"
   ]
  },
  {
   "cell_type": "code",
   "execution_count": 27,
   "metadata": {},
   "outputs": [],
   "source": [
    "df[\"Age Range\"] = pd.cut(df[\"Age\"], bins, labels=labels)"
   ]
  },
  {
   "cell_type": "code",
   "execution_count": 28,
   "metadata": {},
   "outputs": [],
   "source": [
    "df_ages = df.groupby(\"Age Range\")"
   ]
  },
  {
   "cell_type": "code",
   "execution_count": 29,
   "metadata": {
    "scrolled": true
   },
   "outputs": [],
   "source": [
    "total_count = df_ages[\"SN\"].nunique()"
   ]
  },
  {
   "cell_type": "code",
   "execution_count": 30,
   "metadata": {},
   "outputs": [],
   "source": [
    "percentage_players = total_count/Total_players\n"
   ]
  },
  {
   "cell_type": "code",
   "execution_count": 31,
   "metadata": {},
   "outputs": [],
   "source": [
    "Summary_demographics = pd.DataFrame({\n",
    "    \"Total Count\": total_count,\n",
    "    \"Percentage of Players\": percentage_players\n",
    "})"
   ]
  },
  {
   "cell_type": "code",
   "execution_count": 32,
   "metadata": {},
   "outputs": [],
   "source": [
    "Summary_demographics = Summary_demographics.style.format({\n",
    "    \"Percentage of Players\":\"{:.2%}\"\n",
    "}).highlight_max(color=\"green\").highlight_min(color=\"indianred\").set_properties(\n",
    "    **{'text-align': 'left'})"
   ]
  },
  {
   "cell_type": "code",
   "execution_count": 33,
   "metadata": {
    "scrolled": true
   },
   "outputs": [
    {
     "data": {
      "text/html": [
       "<style  type=\"text/css\" >\n",
       "    #T_1b77dcc0_85ae_11ea_98f5_10ddb1c77f91row0_col0 {\n",
       "            : ;\n",
       "            : ;\n",
       "            text-align:  left;\n",
       "        }    #T_1b77dcc0_85ae_11ea_98f5_10ddb1c77f91row0_col1 {\n",
       "            : ;\n",
       "            : ;\n",
       "            text-align:  left;\n",
       "        }    #T_1b77dcc0_85ae_11ea_98f5_10ddb1c77f91row1_col0 {\n",
       "            : ;\n",
       "            : ;\n",
       "            text-align:  left;\n",
       "        }    #T_1b77dcc0_85ae_11ea_98f5_10ddb1c77f91row1_col1 {\n",
       "            : ;\n",
       "            : ;\n",
       "            text-align:  left;\n",
       "        }    #T_1b77dcc0_85ae_11ea_98f5_10ddb1c77f91row2_col0 {\n",
       "            : ;\n",
       "            : ;\n",
       "            text-align:  left;\n",
       "        }    #T_1b77dcc0_85ae_11ea_98f5_10ddb1c77f91row2_col1 {\n",
       "            : ;\n",
       "            : ;\n",
       "            text-align:  left;\n",
       "        }    #T_1b77dcc0_85ae_11ea_98f5_10ddb1c77f91row3_col0 {\n",
       "            background-color:  green;\n",
       "            : ;\n",
       "            text-align:  left;\n",
       "        }    #T_1b77dcc0_85ae_11ea_98f5_10ddb1c77f91row3_col1 {\n",
       "            background-color:  green;\n",
       "            : ;\n",
       "            text-align:  left;\n",
       "        }    #T_1b77dcc0_85ae_11ea_98f5_10ddb1c77f91row4_col0 {\n",
       "            : ;\n",
       "            : ;\n",
       "            text-align:  left;\n",
       "        }    #T_1b77dcc0_85ae_11ea_98f5_10ddb1c77f91row4_col1 {\n",
       "            : ;\n",
       "            : ;\n",
       "            text-align:  left;\n",
       "        }    #T_1b77dcc0_85ae_11ea_98f5_10ddb1c77f91row5_col0 {\n",
       "            : ;\n",
       "            : ;\n",
       "            text-align:  left;\n",
       "        }    #T_1b77dcc0_85ae_11ea_98f5_10ddb1c77f91row5_col1 {\n",
       "            : ;\n",
       "            : ;\n",
       "            text-align:  left;\n",
       "        }    #T_1b77dcc0_85ae_11ea_98f5_10ddb1c77f91row6_col0 {\n",
       "            : ;\n",
       "            : ;\n",
       "            text-align:  left;\n",
       "        }    #T_1b77dcc0_85ae_11ea_98f5_10ddb1c77f91row6_col1 {\n",
       "            : ;\n",
       "            : ;\n",
       "            text-align:  left;\n",
       "        }    #T_1b77dcc0_85ae_11ea_98f5_10ddb1c77f91row7_col0 {\n",
       "            : ;\n",
       "            background-color:  indianred;\n",
       "            text-align:  left;\n",
       "        }    #T_1b77dcc0_85ae_11ea_98f5_10ddb1c77f91row7_col1 {\n",
       "            : ;\n",
       "            background-color:  indianred;\n",
       "            text-align:  left;\n",
       "        }</style><table id=\"T_1b77dcc0_85ae_11ea_98f5_10ddb1c77f91\" ><thead>    <tr>        <th class=\"blank level0\" ></th>        <th class=\"col_heading level0 col0\" >Total Count</th>        <th class=\"col_heading level0 col1\" >Percentage of Players</th>    </tr>    <tr>        <th class=\"index_name level0\" >Age Range</th>        <th class=\"blank\" ></th>        <th class=\"blank\" ></th>    </tr></thead><tbody>\n",
       "                <tr>\n",
       "                        <th id=\"T_1b77dcc0_85ae_11ea_98f5_10ddb1c77f91level0_row0\" class=\"row_heading level0 row0\" ><10</th>\n",
       "                        <td id=\"T_1b77dcc0_85ae_11ea_98f5_10ddb1c77f91row0_col0\" class=\"data row0 col0\" >17</td>\n",
       "                        <td id=\"T_1b77dcc0_85ae_11ea_98f5_10ddb1c77f91row0_col1\" class=\"data row0 col1\" >2.95%</td>\n",
       "            </tr>\n",
       "            <tr>\n",
       "                        <th id=\"T_1b77dcc0_85ae_11ea_98f5_10ddb1c77f91level0_row1\" class=\"row_heading level0 row1\" >10-14</th>\n",
       "                        <td id=\"T_1b77dcc0_85ae_11ea_98f5_10ddb1c77f91row1_col0\" class=\"data row1 col0\" >22</td>\n",
       "                        <td id=\"T_1b77dcc0_85ae_11ea_98f5_10ddb1c77f91row1_col1\" class=\"data row1 col1\" >3.82%</td>\n",
       "            </tr>\n",
       "            <tr>\n",
       "                        <th id=\"T_1b77dcc0_85ae_11ea_98f5_10ddb1c77f91level0_row2\" class=\"row_heading level0 row2\" >15-19</th>\n",
       "                        <td id=\"T_1b77dcc0_85ae_11ea_98f5_10ddb1c77f91row2_col0\" class=\"data row2 col0\" >107</td>\n",
       "                        <td id=\"T_1b77dcc0_85ae_11ea_98f5_10ddb1c77f91row2_col1\" class=\"data row2 col1\" >18.58%</td>\n",
       "            </tr>\n",
       "            <tr>\n",
       "                        <th id=\"T_1b77dcc0_85ae_11ea_98f5_10ddb1c77f91level0_row3\" class=\"row_heading level0 row3\" >20-24</th>\n",
       "                        <td id=\"T_1b77dcc0_85ae_11ea_98f5_10ddb1c77f91row3_col0\" class=\"data row3 col0\" >258</td>\n",
       "                        <td id=\"T_1b77dcc0_85ae_11ea_98f5_10ddb1c77f91row3_col1\" class=\"data row3 col1\" >44.79%</td>\n",
       "            </tr>\n",
       "            <tr>\n",
       "                        <th id=\"T_1b77dcc0_85ae_11ea_98f5_10ddb1c77f91level0_row4\" class=\"row_heading level0 row4\" >25-29</th>\n",
       "                        <td id=\"T_1b77dcc0_85ae_11ea_98f5_10ddb1c77f91row4_col0\" class=\"data row4 col0\" >77</td>\n",
       "                        <td id=\"T_1b77dcc0_85ae_11ea_98f5_10ddb1c77f91row4_col1\" class=\"data row4 col1\" >13.37%</td>\n",
       "            </tr>\n",
       "            <tr>\n",
       "                        <th id=\"T_1b77dcc0_85ae_11ea_98f5_10ddb1c77f91level0_row5\" class=\"row_heading level0 row5\" >30-34</th>\n",
       "                        <td id=\"T_1b77dcc0_85ae_11ea_98f5_10ddb1c77f91row5_col0\" class=\"data row5 col0\" >52</td>\n",
       "                        <td id=\"T_1b77dcc0_85ae_11ea_98f5_10ddb1c77f91row5_col1\" class=\"data row5 col1\" >9.03%</td>\n",
       "            </tr>\n",
       "            <tr>\n",
       "                        <th id=\"T_1b77dcc0_85ae_11ea_98f5_10ddb1c77f91level0_row6\" class=\"row_heading level0 row6\" >35-39</th>\n",
       "                        <td id=\"T_1b77dcc0_85ae_11ea_98f5_10ddb1c77f91row6_col0\" class=\"data row6 col0\" >31</td>\n",
       "                        <td id=\"T_1b77dcc0_85ae_11ea_98f5_10ddb1c77f91row6_col1\" class=\"data row6 col1\" >5.38%</td>\n",
       "            </tr>\n",
       "            <tr>\n",
       "                        <th id=\"T_1b77dcc0_85ae_11ea_98f5_10ddb1c77f91level0_row7\" class=\"row_heading level0 row7\" >40+</th>\n",
       "                        <td id=\"T_1b77dcc0_85ae_11ea_98f5_10ddb1c77f91row7_col0\" class=\"data row7 col0\" >12</td>\n",
       "                        <td id=\"T_1b77dcc0_85ae_11ea_98f5_10ddb1c77f91row7_col1\" class=\"data row7 col1\" >2.08%</td>\n",
       "            </tr>\n",
       "    </tbody></table>"
      ],
      "text/plain": [
       "<pandas.io.formats.style.Styler at 0x12147a410>"
      ]
     },
     "execution_count": 33,
     "metadata": {},
     "output_type": "execute_result"
    }
   ],
   "source": [
    "Summary_demographics"
   ]
  },
  {
   "cell_type": "markdown",
   "metadata": {},
   "source": [
    "# Purchasing Analysis (Age)"
   ]
  },
  {
   "cell_type": "code",
   "execution_count": 34,
   "metadata": {},
   "outputs": [],
   "source": [
    "purchase_count = df_ages[\"SN\"].count()"
   ]
  },
  {
   "cell_type": "code",
   "execution_count": 35,
   "metadata": {
    "scrolled": true
   },
   "outputs": [],
   "source": [
    "avg_pur_price = df_ages[\"Price\"].mean()"
   ]
  },
  {
   "cell_type": "code",
   "execution_count": 36,
   "metadata": {},
   "outputs": [],
   "source": [
    "total_pur_value = df_ages[\"Price\"].sum()"
   ]
  },
  {
   "cell_type": "code",
   "execution_count": 37,
   "metadata": {},
   "outputs": [],
   "source": [
    "avg_total_pp = total_pur_value/total_count"
   ]
  },
  {
   "cell_type": "code",
   "execution_count": 38,
   "metadata": {},
   "outputs": [],
   "source": [
    "analysis_age_df = pd.DataFrame({\n",
    "    \"Purchase Count\":purchase_count,\n",
    "    \"Average Purchase Price\":avg_pur_price,\n",
    "    \"Total Purchase Value\": total_pur_value,\n",
    "    \"Avg Total Purchase per Person\":avg_total_pp\n",
    "})"
   ]
  },
  {
   "cell_type": "code",
   "execution_count": 39,
   "metadata": {},
   "outputs": [],
   "source": [
    "analysis_age_df = analysis_age_df.style.format({\"Average Purchase Price\":\"${:.2f}\",\n",
    "                                               \"Total Purchase Value\":\"${:,.2f}\",\n",
    "                                               \"Avg Total Purchase per Person\":\"${:.2f}\"\n",
    "                                               }).highlight_max(color=\"green\").highlight_min(color=\"indianred\").set_properties(**{\n",
    "    'text-align': 'left'})"
   ]
  },
  {
   "cell_type": "code",
   "execution_count": 40,
   "metadata": {},
   "outputs": [
    {
     "data": {
      "text/html": [
       "<style  type=\"text/css\" >\n",
       "    #T_1ba1f334_85ae_11ea_98f5_10ddb1c77f91row0_col0 {\n",
       "            : ;\n",
       "            : ;\n",
       "            text-align:  left;\n",
       "        }    #T_1ba1f334_85ae_11ea_98f5_10ddb1c77f91row0_col1 {\n",
       "            : ;\n",
       "            : ;\n",
       "            text-align:  left;\n",
       "        }    #T_1ba1f334_85ae_11ea_98f5_10ddb1c77f91row0_col2 {\n",
       "            : ;\n",
       "            : ;\n",
       "            text-align:  left;\n",
       "        }    #T_1ba1f334_85ae_11ea_98f5_10ddb1c77f91row0_col3 {\n",
       "            : ;\n",
       "            : ;\n",
       "            text-align:  left;\n",
       "        }    #T_1ba1f334_85ae_11ea_98f5_10ddb1c77f91row1_col0 {\n",
       "            : ;\n",
       "            : ;\n",
       "            text-align:  left;\n",
       "        }    #T_1ba1f334_85ae_11ea_98f5_10ddb1c77f91row1_col1 {\n",
       "            : ;\n",
       "            : ;\n",
       "            text-align:  left;\n",
       "        }    #T_1ba1f334_85ae_11ea_98f5_10ddb1c77f91row1_col2 {\n",
       "            : ;\n",
       "            : ;\n",
       "            text-align:  left;\n",
       "        }    #T_1ba1f334_85ae_11ea_98f5_10ddb1c77f91row1_col3 {\n",
       "            : ;\n",
       "            : ;\n",
       "            text-align:  left;\n",
       "        }    #T_1ba1f334_85ae_11ea_98f5_10ddb1c77f91row2_col0 {\n",
       "            : ;\n",
       "            : ;\n",
       "            text-align:  left;\n",
       "        }    #T_1ba1f334_85ae_11ea_98f5_10ddb1c77f91row2_col1 {\n",
       "            : ;\n",
       "            : ;\n",
       "            text-align:  left;\n",
       "        }    #T_1ba1f334_85ae_11ea_98f5_10ddb1c77f91row2_col2 {\n",
       "            : ;\n",
       "            : ;\n",
       "            text-align:  left;\n",
       "        }    #T_1ba1f334_85ae_11ea_98f5_10ddb1c77f91row2_col3 {\n",
       "            : ;\n",
       "            : ;\n",
       "            text-align:  left;\n",
       "        }    #T_1ba1f334_85ae_11ea_98f5_10ddb1c77f91row3_col0 {\n",
       "            background-color:  green;\n",
       "            : ;\n",
       "            text-align:  left;\n",
       "        }    #T_1ba1f334_85ae_11ea_98f5_10ddb1c77f91row3_col1 {\n",
       "            : ;\n",
       "            : ;\n",
       "            text-align:  left;\n",
       "        }    #T_1ba1f334_85ae_11ea_98f5_10ddb1c77f91row3_col2 {\n",
       "            background-color:  green;\n",
       "            : ;\n",
       "            text-align:  left;\n",
       "        }    #T_1ba1f334_85ae_11ea_98f5_10ddb1c77f91row3_col3 {\n",
       "            : ;\n",
       "            : ;\n",
       "            text-align:  left;\n",
       "        }    #T_1ba1f334_85ae_11ea_98f5_10ddb1c77f91row4_col0 {\n",
       "            : ;\n",
       "            : ;\n",
       "            text-align:  left;\n",
       "        }    #T_1ba1f334_85ae_11ea_98f5_10ddb1c77f91row4_col1 {\n",
       "            : ;\n",
       "            background-color:  indianred;\n",
       "            text-align:  left;\n",
       "        }    #T_1ba1f334_85ae_11ea_98f5_10ddb1c77f91row4_col2 {\n",
       "            : ;\n",
       "            : ;\n",
       "            text-align:  left;\n",
       "        }    #T_1ba1f334_85ae_11ea_98f5_10ddb1c77f91row4_col3 {\n",
       "            : ;\n",
       "            : ;\n",
       "            text-align:  left;\n",
       "        }    #T_1ba1f334_85ae_11ea_98f5_10ddb1c77f91row5_col0 {\n",
       "            : ;\n",
       "            : ;\n",
       "            text-align:  left;\n",
       "        }    #T_1ba1f334_85ae_11ea_98f5_10ddb1c77f91row5_col1 {\n",
       "            : ;\n",
       "            : ;\n",
       "            text-align:  left;\n",
       "        }    #T_1ba1f334_85ae_11ea_98f5_10ddb1c77f91row5_col2 {\n",
       "            : ;\n",
       "            : ;\n",
       "            text-align:  left;\n",
       "        }    #T_1ba1f334_85ae_11ea_98f5_10ddb1c77f91row5_col3 {\n",
       "            : ;\n",
       "            : ;\n",
       "            text-align:  left;\n",
       "        }    #T_1ba1f334_85ae_11ea_98f5_10ddb1c77f91row6_col0 {\n",
       "            : ;\n",
       "            : ;\n",
       "            text-align:  left;\n",
       "        }    #T_1ba1f334_85ae_11ea_98f5_10ddb1c77f91row6_col1 {\n",
       "            background-color:  green;\n",
       "            : ;\n",
       "            text-align:  left;\n",
       "        }    #T_1ba1f334_85ae_11ea_98f5_10ddb1c77f91row6_col2 {\n",
       "            : ;\n",
       "            : ;\n",
       "            text-align:  left;\n",
       "        }    #T_1ba1f334_85ae_11ea_98f5_10ddb1c77f91row6_col3 {\n",
       "            background-color:  green;\n",
       "            : ;\n",
       "            text-align:  left;\n",
       "        }    #T_1ba1f334_85ae_11ea_98f5_10ddb1c77f91row7_col0 {\n",
       "            : ;\n",
       "            background-color:  indianred;\n",
       "            text-align:  left;\n",
       "        }    #T_1ba1f334_85ae_11ea_98f5_10ddb1c77f91row7_col1 {\n",
       "            : ;\n",
       "            : ;\n",
       "            text-align:  left;\n",
       "        }    #T_1ba1f334_85ae_11ea_98f5_10ddb1c77f91row7_col2 {\n",
       "            : ;\n",
       "            background-color:  indianred;\n",
       "            text-align:  left;\n",
       "        }    #T_1ba1f334_85ae_11ea_98f5_10ddb1c77f91row7_col3 {\n",
       "            : ;\n",
       "            background-color:  indianred;\n",
       "            text-align:  left;\n",
       "        }</style><table id=\"T_1ba1f334_85ae_11ea_98f5_10ddb1c77f91\" ><thead>    <tr>        <th class=\"blank level0\" ></th>        <th class=\"col_heading level0 col0\" >Purchase Count</th>        <th class=\"col_heading level0 col1\" >Average Purchase Price</th>        <th class=\"col_heading level0 col2\" >Total Purchase Value</th>        <th class=\"col_heading level0 col3\" >Avg Total Purchase per Person</th>    </tr>    <tr>        <th class=\"index_name level0\" >Age Range</th>        <th class=\"blank\" ></th>        <th class=\"blank\" ></th>        <th class=\"blank\" ></th>        <th class=\"blank\" ></th>    </tr></thead><tbody>\n",
       "                <tr>\n",
       "                        <th id=\"T_1ba1f334_85ae_11ea_98f5_10ddb1c77f91level0_row0\" class=\"row_heading level0 row0\" ><10</th>\n",
       "                        <td id=\"T_1ba1f334_85ae_11ea_98f5_10ddb1c77f91row0_col0\" class=\"data row0 col0\" >23</td>\n",
       "                        <td id=\"T_1ba1f334_85ae_11ea_98f5_10ddb1c77f91row0_col1\" class=\"data row0 col1\" >$3.35</td>\n",
       "                        <td id=\"T_1ba1f334_85ae_11ea_98f5_10ddb1c77f91row0_col2\" class=\"data row0 col2\" >$77.13</td>\n",
       "                        <td id=\"T_1ba1f334_85ae_11ea_98f5_10ddb1c77f91row0_col3\" class=\"data row0 col3\" >$4.54</td>\n",
       "            </tr>\n",
       "            <tr>\n",
       "                        <th id=\"T_1ba1f334_85ae_11ea_98f5_10ddb1c77f91level0_row1\" class=\"row_heading level0 row1\" >10-14</th>\n",
       "                        <td id=\"T_1ba1f334_85ae_11ea_98f5_10ddb1c77f91row1_col0\" class=\"data row1 col0\" >28</td>\n",
       "                        <td id=\"T_1ba1f334_85ae_11ea_98f5_10ddb1c77f91row1_col1\" class=\"data row1 col1\" >$2.96</td>\n",
       "                        <td id=\"T_1ba1f334_85ae_11ea_98f5_10ddb1c77f91row1_col2\" class=\"data row1 col2\" >$82.78</td>\n",
       "                        <td id=\"T_1ba1f334_85ae_11ea_98f5_10ddb1c77f91row1_col3\" class=\"data row1 col3\" >$3.76</td>\n",
       "            </tr>\n",
       "            <tr>\n",
       "                        <th id=\"T_1ba1f334_85ae_11ea_98f5_10ddb1c77f91level0_row2\" class=\"row_heading level0 row2\" >15-19</th>\n",
       "                        <td id=\"T_1ba1f334_85ae_11ea_98f5_10ddb1c77f91row2_col0\" class=\"data row2 col0\" >136</td>\n",
       "                        <td id=\"T_1ba1f334_85ae_11ea_98f5_10ddb1c77f91row2_col1\" class=\"data row2 col1\" >$3.04</td>\n",
       "                        <td id=\"T_1ba1f334_85ae_11ea_98f5_10ddb1c77f91row2_col2\" class=\"data row2 col2\" >$412.89</td>\n",
       "                        <td id=\"T_1ba1f334_85ae_11ea_98f5_10ddb1c77f91row2_col3\" class=\"data row2 col3\" >$3.86</td>\n",
       "            </tr>\n",
       "            <tr>\n",
       "                        <th id=\"T_1ba1f334_85ae_11ea_98f5_10ddb1c77f91level0_row3\" class=\"row_heading level0 row3\" >20-24</th>\n",
       "                        <td id=\"T_1ba1f334_85ae_11ea_98f5_10ddb1c77f91row3_col0\" class=\"data row3 col0\" >365</td>\n",
       "                        <td id=\"T_1ba1f334_85ae_11ea_98f5_10ddb1c77f91row3_col1\" class=\"data row3 col1\" >$3.05</td>\n",
       "                        <td id=\"T_1ba1f334_85ae_11ea_98f5_10ddb1c77f91row3_col2\" class=\"data row3 col2\" >$1,114.06</td>\n",
       "                        <td id=\"T_1ba1f334_85ae_11ea_98f5_10ddb1c77f91row3_col3\" class=\"data row3 col3\" >$4.32</td>\n",
       "            </tr>\n",
       "            <tr>\n",
       "                        <th id=\"T_1ba1f334_85ae_11ea_98f5_10ddb1c77f91level0_row4\" class=\"row_heading level0 row4\" >25-29</th>\n",
       "                        <td id=\"T_1ba1f334_85ae_11ea_98f5_10ddb1c77f91row4_col0\" class=\"data row4 col0\" >101</td>\n",
       "                        <td id=\"T_1ba1f334_85ae_11ea_98f5_10ddb1c77f91row4_col1\" class=\"data row4 col1\" >$2.90</td>\n",
       "                        <td id=\"T_1ba1f334_85ae_11ea_98f5_10ddb1c77f91row4_col2\" class=\"data row4 col2\" >$293.00</td>\n",
       "                        <td id=\"T_1ba1f334_85ae_11ea_98f5_10ddb1c77f91row4_col3\" class=\"data row4 col3\" >$3.81</td>\n",
       "            </tr>\n",
       "            <tr>\n",
       "                        <th id=\"T_1ba1f334_85ae_11ea_98f5_10ddb1c77f91level0_row5\" class=\"row_heading level0 row5\" >30-34</th>\n",
       "                        <td id=\"T_1ba1f334_85ae_11ea_98f5_10ddb1c77f91row5_col0\" class=\"data row5 col0\" >73</td>\n",
       "                        <td id=\"T_1ba1f334_85ae_11ea_98f5_10ddb1c77f91row5_col1\" class=\"data row5 col1\" >$2.93</td>\n",
       "                        <td id=\"T_1ba1f334_85ae_11ea_98f5_10ddb1c77f91row5_col2\" class=\"data row5 col2\" >$214.00</td>\n",
       "                        <td id=\"T_1ba1f334_85ae_11ea_98f5_10ddb1c77f91row5_col3\" class=\"data row5 col3\" >$4.12</td>\n",
       "            </tr>\n",
       "            <tr>\n",
       "                        <th id=\"T_1ba1f334_85ae_11ea_98f5_10ddb1c77f91level0_row6\" class=\"row_heading level0 row6\" >35-39</th>\n",
       "                        <td id=\"T_1ba1f334_85ae_11ea_98f5_10ddb1c77f91row6_col0\" class=\"data row6 col0\" >41</td>\n",
       "                        <td id=\"T_1ba1f334_85ae_11ea_98f5_10ddb1c77f91row6_col1\" class=\"data row6 col1\" >$3.60</td>\n",
       "                        <td id=\"T_1ba1f334_85ae_11ea_98f5_10ddb1c77f91row6_col2\" class=\"data row6 col2\" >$147.67</td>\n",
       "                        <td id=\"T_1ba1f334_85ae_11ea_98f5_10ddb1c77f91row6_col3\" class=\"data row6 col3\" >$4.76</td>\n",
       "            </tr>\n",
       "            <tr>\n",
       "                        <th id=\"T_1ba1f334_85ae_11ea_98f5_10ddb1c77f91level0_row7\" class=\"row_heading level0 row7\" >40+</th>\n",
       "                        <td id=\"T_1ba1f334_85ae_11ea_98f5_10ddb1c77f91row7_col0\" class=\"data row7 col0\" >13</td>\n",
       "                        <td id=\"T_1ba1f334_85ae_11ea_98f5_10ddb1c77f91row7_col1\" class=\"data row7 col1\" >$2.94</td>\n",
       "                        <td id=\"T_1ba1f334_85ae_11ea_98f5_10ddb1c77f91row7_col2\" class=\"data row7 col2\" >$38.24</td>\n",
       "                        <td id=\"T_1ba1f334_85ae_11ea_98f5_10ddb1c77f91row7_col3\" class=\"data row7 col3\" >$3.19</td>\n",
       "            </tr>\n",
       "    </tbody></table>"
      ],
      "text/plain": [
       "<pandas.io.formats.style.Styler at 0x121507d90>"
      ]
     },
     "execution_count": 40,
     "metadata": {},
     "output_type": "execute_result"
    }
   ],
   "source": [
    "analysis_age_df"
   ]
  },
  {
   "cell_type": "markdown",
   "metadata": {},
   "source": [
    "# Top Spenders"
   ]
  },
  {
   "cell_type": "code",
   "execution_count": 41,
   "metadata": {
    "scrolled": true
   },
   "outputs": [],
   "source": [
    "spenders_df = df.groupby(\"SN\").agg({\"SN\":\"count\", \"Price\":[\"mean\", \"sum\"]})"
   ]
  },
  {
   "cell_type": "code",
   "execution_count": 42,
   "metadata": {
    "scrolled": true
   },
   "outputs": [],
   "source": [
    "spenders_df.columns = spenders_df.columns.droplevel(0)"
   ]
  },
  {
   "cell_type": "code",
   "execution_count": 43,
   "metadata": {},
   "outputs": [],
   "source": [
    "spenders_df = spenders_df.rename(columns={\"count\":\"Purchase Count\", \n",
    "                                          \"mean\": \"Average Purchase Price\", \n",
    "                                          \"sum\":\"Total Purchase Value\"})"
   ]
  },
  {
   "cell_type": "code",
   "execution_count": 44,
   "metadata": {},
   "outputs": [],
   "source": [
    "top_5 = spenders_df.sort_values(\"Total Purchase Value\", ascending=False).head()"
   ]
  },
  {
   "cell_type": "code",
   "execution_count": 45,
   "metadata": {},
   "outputs": [],
   "source": [
    "top_5 = top_5.style.format({\"Average Purchase Price\":\"${:.2f}\", \n",
    "                           \"Total Purchase Value\":\"${:.2f}\"}).set_properties(**{\n",
    "    'text-align': 'left'})"
   ]
  },
  {
   "cell_type": "code",
   "execution_count": 46,
   "metadata": {},
   "outputs": [
    {
     "data": {
      "text/html": [
       "<style  type=\"text/css\" >\n",
       "    #T_1bb43b48_85ae_11ea_98f5_10ddb1c77f91row0_col0 {\n",
       "            text-align:  left;\n",
       "        }    #T_1bb43b48_85ae_11ea_98f5_10ddb1c77f91row0_col1 {\n",
       "            text-align:  left;\n",
       "        }    #T_1bb43b48_85ae_11ea_98f5_10ddb1c77f91row0_col2 {\n",
       "            text-align:  left;\n",
       "        }    #T_1bb43b48_85ae_11ea_98f5_10ddb1c77f91row1_col0 {\n",
       "            text-align:  left;\n",
       "        }    #T_1bb43b48_85ae_11ea_98f5_10ddb1c77f91row1_col1 {\n",
       "            text-align:  left;\n",
       "        }    #T_1bb43b48_85ae_11ea_98f5_10ddb1c77f91row1_col2 {\n",
       "            text-align:  left;\n",
       "        }    #T_1bb43b48_85ae_11ea_98f5_10ddb1c77f91row2_col0 {\n",
       "            text-align:  left;\n",
       "        }    #T_1bb43b48_85ae_11ea_98f5_10ddb1c77f91row2_col1 {\n",
       "            text-align:  left;\n",
       "        }    #T_1bb43b48_85ae_11ea_98f5_10ddb1c77f91row2_col2 {\n",
       "            text-align:  left;\n",
       "        }    #T_1bb43b48_85ae_11ea_98f5_10ddb1c77f91row3_col0 {\n",
       "            text-align:  left;\n",
       "        }    #T_1bb43b48_85ae_11ea_98f5_10ddb1c77f91row3_col1 {\n",
       "            text-align:  left;\n",
       "        }    #T_1bb43b48_85ae_11ea_98f5_10ddb1c77f91row3_col2 {\n",
       "            text-align:  left;\n",
       "        }    #T_1bb43b48_85ae_11ea_98f5_10ddb1c77f91row4_col0 {\n",
       "            text-align:  left;\n",
       "        }    #T_1bb43b48_85ae_11ea_98f5_10ddb1c77f91row4_col1 {\n",
       "            text-align:  left;\n",
       "        }    #T_1bb43b48_85ae_11ea_98f5_10ddb1c77f91row4_col2 {\n",
       "            text-align:  left;\n",
       "        }</style><table id=\"T_1bb43b48_85ae_11ea_98f5_10ddb1c77f91\" ><thead>    <tr>        <th class=\"blank level0\" ></th>        <th class=\"col_heading level0 col0\" >Purchase Count</th>        <th class=\"col_heading level0 col1\" >Average Purchase Price</th>        <th class=\"col_heading level0 col2\" >Total Purchase Value</th>    </tr>    <tr>        <th class=\"index_name level0\" >SN</th>        <th class=\"blank\" ></th>        <th class=\"blank\" ></th>        <th class=\"blank\" ></th>    </tr></thead><tbody>\n",
       "                <tr>\n",
       "                        <th id=\"T_1bb43b48_85ae_11ea_98f5_10ddb1c77f91level0_row0\" class=\"row_heading level0 row0\" >Lisosia93</th>\n",
       "                        <td id=\"T_1bb43b48_85ae_11ea_98f5_10ddb1c77f91row0_col0\" class=\"data row0 col0\" >5</td>\n",
       "                        <td id=\"T_1bb43b48_85ae_11ea_98f5_10ddb1c77f91row0_col1\" class=\"data row0 col1\" >$3.79</td>\n",
       "                        <td id=\"T_1bb43b48_85ae_11ea_98f5_10ddb1c77f91row0_col2\" class=\"data row0 col2\" >$18.96</td>\n",
       "            </tr>\n",
       "            <tr>\n",
       "                        <th id=\"T_1bb43b48_85ae_11ea_98f5_10ddb1c77f91level0_row1\" class=\"row_heading level0 row1\" >Idastidru52</th>\n",
       "                        <td id=\"T_1bb43b48_85ae_11ea_98f5_10ddb1c77f91row1_col0\" class=\"data row1 col0\" >4</td>\n",
       "                        <td id=\"T_1bb43b48_85ae_11ea_98f5_10ddb1c77f91row1_col1\" class=\"data row1 col1\" >$3.86</td>\n",
       "                        <td id=\"T_1bb43b48_85ae_11ea_98f5_10ddb1c77f91row1_col2\" class=\"data row1 col2\" >$15.45</td>\n",
       "            </tr>\n",
       "            <tr>\n",
       "                        <th id=\"T_1bb43b48_85ae_11ea_98f5_10ddb1c77f91level0_row2\" class=\"row_heading level0 row2\" >Chamjask73</th>\n",
       "                        <td id=\"T_1bb43b48_85ae_11ea_98f5_10ddb1c77f91row2_col0\" class=\"data row2 col0\" >3</td>\n",
       "                        <td id=\"T_1bb43b48_85ae_11ea_98f5_10ddb1c77f91row2_col1\" class=\"data row2 col1\" >$4.61</td>\n",
       "                        <td id=\"T_1bb43b48_85ae_11ea_98f5_10ddb1c77f91row2_col2\" class=\"data row2 col2\" >$13.83</td>\n",
       "            </tr>\n",
       "            <tr>\n",
       "                        <th id=\"T_1bb43b48_85ae_11ea_98f5_10ddb1c77f91level0_row3\" class=\"row_heading level0 row3\" >Iral74</th>\n",
       "                        <td id=\"T_1bb43b48_85ae_11ea_98f5_10ddb1c77f91row3_col0\" class=\"data row3 col0\" >4</td>\n",
       "                        <td id=\"T_1bb43b48_85ae_11ea_98f5_10ddb1c77f91row3_col1\" class=\"data row3 col1\" >$3.40</td>\n",
       "                        <td id=\"T_1bb43b48_85ae_11ea_98f5_10ddb1c77f91row3_col2\" class=\"data row3 col2\" >$13.62</td>\n",
       "            </tr>\n",
       "            <tr>\n",
       "                        <th id=\"T_1bb43b48_85ae_11ea_98f5_10ddb1c77f91level0_row4\" class=\"row_heading level0 row4\" >Iskadarya95</th>\n",
       "                        <td id=\"T_1bb43b48_85ae_11ea_98f5_10ddb1c77f91row4_col0\" class=\"data row4 col0\" >3</td>\n",
       "                        <td id=\"T_1bb43b48_85ae_11ea_98f5_10ddb1c77f91row4_col1\" class=\"data row4 col1\" >$4.37</td>\n",
       "                        <td id=\"T_1bb43b48_85ae_11ea_98f5_10ddb1c77f91row4_col2\" class=\"data row4 col2\" >$13.10</td>\n",
       "            </tr>\n",
       "    </tbody></table>"
      ],
      "text/plain": [
       "<pandas.io.formats.style.Styler at 0x121581c10>"
      ]
     },
     "execution_count": 46,
     "metadata": {},
     "output_type": "execute_result"
    }
   ],
   "source": [
    "top_5"
   ]
  },
  {
   "cell_type": "markdown",
   "metadata": {},
   "source": [
    "# Most Popular Items"
   ]
  },
  {
   "cell_type": "code",
   "execution_count": 47,
   "metadata": {
    "scrolled": true
   },
   "outputs": [],
   "source": [
    "popular_items_df = df.groupby([\"Item ID\", \"Item Name\"])"
   ]
  },
  {
   "cell_type": "code",
   "execution_count": 48,
   "metadata": {},
   "outputs": [],
   "source": [
    "purch_count_item = popular_items_df[\"Item Name\"].count()"
   ]
  },
  {
   "cell_type": "code",
   "execution_count": 49,
   "metadata": {},
   "outputs": [],
   "source": [
    "total_value = popular_items_df[\"Price\"].sum()"
   ]
  },
  {
   "cell_type": "code",
   "execution_count": 50,
   "metadata": {},
   "outputs": [],
   "source": [
    "item_price = total_value/purch_count_item"
   ]
  },
  {
   "cell_type": "code",
   "execution_count": 51,
   "metadata": {},
   "outputs": [],
   "source": [
    "analysis_items = pd.DataFrame({\n",
    "    \"Purchase Count\":purch_count_item,\n",
    "    \"Item Price\": item_price,\n",
    "    \"Total Purchase Value\":total_value\n",
    "    \n",
    "})"
   ]
  },
  {
   "cell_type": "code",
   "execution_count": 52,
   "metadata": {
    "scrolled": false
   },
   "outputs": [],
   "source": [
    "top_5_items = analysis_items.sort_values(\"Purchase Count\", ascending=False).head()"
   ]
  },
  {
   "cell_type": "code",
   "execution_count": 53,
   "metadata": {},
   "outputs": [
    {
     "data": {
      "text/html": [
       "<style  type=\"text/css\" >\n",
       "    #T_1bcbca2e_85ae_11ea_98f5_10ddb1c77f91row0_col0 {\n",
       "            text-align:  left;\n",
       "        }    #T_1bcbca2e_85ae_11ea_98f5_10ddb1c77f91row0_col1 {\n",
       "            text-align:  left;\n",
       "        }    #T_1bcbca2e_85ae_11ea_98f5_10ddb1c77f91row0_col2 {\n",
       "            text-align:  left;\n",
       "        }    #T_1bcbca2e_85ae_11ea_98f5_10ddb1c77f91row1_col0 {\n",
       "            text-align:  left;\n",
       "        }    #T_1bcbca2e_85ae_11ea_98f5_10ddb1c77f91row1_col1 {\n",
       "            text-align:  left;\n",
       "        }    #T_1bcbca2e_85ae_11ea_98f5_10ddb1c77f91row1_col2 {\n",
       "            text-align:  left;\n",
       "        }    #T_1bcbca2e_85ae_11ea_98f5_10ddb1c77f91row2_col0 {\n",
       "            text-align:  left;\n",
       "        }    #T_1bcbca2e_85ae_11ea_98f5_10ddb1c77f91row2_col1 {\n",
       "            text-align:  left;\n",
       "        }    #T_1bcbca2e_85ae_11ea_98f5_10ddb1c77f91row2_col2 {\n",
       "            text-align:  left;\n",
       "        }    #T_1bcbca2e_85ae_11ea_98f5_10ddb1c77f91row3_col0 {\n",
       "            text-align:  left;\n",
       "        }    #T_1bcbca2e_85ae_11ea_98f5_10ddb1c77f91row3_col1 {\n",
       "            text-align:  left;\n",
       "        }    #T_1bcbca2e_85ae_11ea_98f5_10ddb1c77f91row3_col2 {\n",
       "            text-align:  left;\n",
       "        }    #T_1bcbca2e_85ae_11ea_98f5_10ddb1c77f91row4_col0 {\n",
       "            text-align:  left;\n",
       "        }    #T_1bcbca2e_85ae_11ea_98f5_10ddb1c77f91row4_col1 {\n",
       "            text-align:  left;\n",
       "        }    #T_1bcbca2e_85ae_11ea_98f5_10ddb1c77f91row4_col2 {\n",
       "            text-align:  left;\n",
       "        }</style><table id=\"T_1bcbca2e_85ae_11ea_98f5_10ddb1c77f91\" ><thead>    <tr>        <th class=\"blank\" ></th>        <th class=\"blank level0\" ></th>        <th class=\"col_heading level0 col0\" >Purchase Count</th>        <th class=\"col_heading level0 col1\" >Item Price</th>        <th class=\"col_heading level0 col2\" >Total Purchase Value</th>    </tr>    <tr>        <th class=\"index_name level0\" >Item ID</th>        <th class=\"index_name level1\" >Item Name</th>        <th class=\"blank\" ></th>        <th class=\"blank\" ></th>        <th class=\"blank\" ></th>    </tr></thead><tbody>\n",
       "                <tr>\n",
       "                        <th id=\"T_1bcbca2e_85ae_11ea_98f5_10ddb1c77f91level0_row0\" class=\"row_heading level0 row0\" >92</th>\n",
       "                        <th id=\"T_1bcbca2e_85ae_11ea_98f5_10ddb1c77f91level1_row0\" class=\"row_heading level1 row0\" >Final Critic</th>\n",
       "                        <td id=\"T_1bcbca2e_85ae_11ea_98f5_10ddb1c77f91row0_col0\" class=\"data row0 col0\" >13</td>\n",
       "                        <td id=\"T_1bcbca2e_85ae_11ea_98f5_10ddb1c77f91row0_col1\" class=\"data row0 col1\" >$4.61</td>\n",
       "                        <td id=\"T_1bcbca2e_85ae_11ea_98f5_10ddb1c77f91row0_col2\" class=\"data row0 col2\" >$59.99</td>\n",
       "            </tr>\n",
       "            <tr>\n",
       "                        <th id=\"T_1bcbca2e_85ae_11ea_98f5_10ddb1c77f91level0_row1\" class=\"row_heading level0 row1\" >178</th>\n",
       "                        <th id=\"T_1bcbca2e_85ae_11ea_98f5_10ddb1c77f91level1_row1\" class=\"row_heading level1 row1\" >Oathbreaker, Last Hope of the Breaking Storm</th>\n",
       "                        <td id=\"T_1bcbca2e_85ae_11ea_98f5_10ddb1c77f91row1_col0\" class=\"data row1 col0\" >12</td>\n",
       "                        <td id=\"T_1bcbca2e_85ae_11ea_98f5_10ddb1c77f91row1_col1\" class=\"data row1 col1\" >$4.23</td>\n",
       "                        <td id=\"T_1bcbca2e_85ae_11ea_98f5_10ddb1c77f91row1_col2\" class=\"data row1 col2\" >$50.76</td>\n",
       "            </tr>\n",
       "            <tr>\n",
       "                        <th id=\"T_1bcbca2e_85ae_11ea_98f5_10ddb1c77f91level0_row2\" class=\"row_heading level0 row2\" >145</th>\n",
       "                        <th id=\"T_1bcbca2e_85ae_11ea_98f5_10ddb1c77f91level1_row2\" class=\"row_heading level1 row2\" >Fiery Glass Crusader</th>\n",
       "                        <td id=\"T_1bcbca2e_85ae_11ea_98f5_10ddb1c77f91row2_col0\" class=\"data row2 col0\" >9</td>\n",
       "                        <td id=\"T_1bcbca2e_85ae_11ea_98f5_10ddb1c77f91row2_col1\" class=\"data row2 col1\" >$4.58</td>\n",
       "                        <td id=\"T_1bcbca2e_85ae_11ea_98f5_10ddb1c77f91row2_col2\" class=\"data row2 col2\" >$41.22</td>\n",
       "            </tr>\n",
       "            <tr>\n",
       "                        <th id=\"T_1bcbca2e_85ae_11ea_98f5_10ddb1c77f91level0_row3\" class=\"row_heading level0 row3\" >132</th>\n",
       "                        <th id=\"T_1bcbca2e_85ae_11ea_98f5_10ddb1c77f91level1_row3\" class=\"row_heading level1 row3\" >Persuasion</th>\n",
       "                        <td id=\"T_1bcbca2e_85ae_11ea_98f5_10ddb1c77f91row3_col0\" class=\"data row3 col0\" >9</td>\n",
       "                        <td id=\"T_1bcbca2e_85ae_11ea_98f5_10ddb1c77f91row3_col1\" class=\"data row3 col1\" >$3.22</td>\n",
       "                        <td id=\"T_1bcbca2e_85ae_11ea_98f5_10ddb1c77f91row3_col2\" class=\"data row3 col2\" >$28.99</td>\n",
       "            </tr>\n",
       "            <tr>\n",
       "                        <th id=\"T_1bcbca2e_85ae_11ea_98f5_10ddb1c77f91level0_row4\" class=\"row_heading level0 row4\" >108</th>\n",
       "                        <th id=\"T_1bcbca2e_85ae_11ea_98f5_10ddb1c77f91level1_row4\" class=\"row_heading level1 row4\" >Extraction, Quickblade Of Trembling Hands</th>\n",
       "                        <td id=\"T_1bcbca2e_85ae_11ea_98f5_10ddb1c77f91row4_col0\" class=\"data row4 col0\" >9</td>\n",
       "                        <td id=\"T_1bcbca2e_85ae_11ea_98f5_10ddb1c77f91row4_col1\" class=\"data row4 col1\" >$3.53</td>\n",
       "                        <td id=\"T_1bcbca2e_85ae_11ea_98f5_10ddb1c77f91row4_col2\" class=\"data row4 col2\" >$31.77</td>\n",
       "            </tr>\n",
       "    </tbody></table>"
      ],
      "text/plain": [
       "<pandas.io.formats.style.Styler at 0x121590290>"
      ]
     },
     "execution_count": 53,
     "metadata": {},
     "output_type": "execute_result"
    }
   ],
   "source": [
    "top_5_items = top_5_items.style.format({\"Item Price\":\"${:.2f}\",\n",
    "                                       \"Total Purchase Value\":\"${:.2f}\"}).set_properties(**{\n",
    "    'text-align': 'left'})\n",
    "top_5_items"
   ]
  },
  {
   "cell_type": "markdown",
   "metadata": {},
   "source": [
    "# Most Profitable Items"
   ]
  },
  {
   "cell_type": "code",
   "execution_count": 54,
   "metadata": {},
   "outputs": [],
   "source": [
    "profitable_items = analysis_items.sort_values(\"Total Purchase Value\", \n",
    "                                              ascending=False).head()"
   ]
  },
  {
   "cell_type": "code",
   "execution_count": 55,
   "metadata": {
    "scrolled": true
   },
   "outputs": [
    {
     "data": {
      "text/html": [
       "<style  type=\"text/css\" >\n",
       "    #T_1bd7e764_85ae_11ea_98f5_10ddb1c77f91row0_col0 {\n",
       "            text-align:  left;\n",
       "            border-color:  red;\n",
       "        }    #T_1bd7e764_85ae_11ea_98f5_10ddb1c77f91row0_col1 {\n",
       "            text-align:  left;\n",
       "            border-color:  red;\n",
       "        }    #T_1bd7e764_85ae_11ea_98f5_10ddb1c77f91row0_col2 {\n",
       "            text-align:  left;\n",
       "            border-color:  red;\n",
       "        }    #T_1bd7e764_85ae_11ea_98f5_10ddb1c77f91row1_col0 {\n",
       "            text-align:  left;\n",
       "            border-color:  red;\n",
       "        }    #T_1bd7e764_85ae_11ea_98f5_10ddb1c77f91row1_col1 {\n",
       "            text-align:  left;\n",
       "            border-color:  red;\n",
       "        }    #T_1bd7e764_85ae_11ea_98f5_10ddb1c77f91row1_col2 {\n",
       "            text-align:  left;\n",
       "            border-color:  red;\n",
       "        }    #T_1bd7e764_85ae_11ea_98f5_10ddb1c77f91row2_col0 {\n",
       "            text-align:  left;\n",
       "            border-color:  red;\n",
       "        }    #T_1bd7e764_85ae_11ea_98f5_10ddb1c77f91row2_col1 {\n",
       "            text-align:  left;\n",
       "            border-color:  red;\n",
       "        }    #T_1bd7e764_85ae_11ea_98f5_10ddb1c77f91row2_col2 {\n",
       "            text-align:  left;\n",
       "            border-color:  red;\n",
       "        }    #T_1bd7e764_85ae_11ea_98f5_10ddb1c77f91row3_col0 {\n",
       "            text-align:  left;\n",
       "            border-color:  red;\n",
       "        }    #T_1bd7e764_85ae_11ea_98f5_10ddb1c77f91row3_col1 {\n",
       "            text-align:  left;\n",
       "            border-color:  red;\n",
       "        }    #T_1bd7e764_85ae_11ea_98f5_10ddb1c77f91row3_col2 {\n",
       "            text-align:  left;\n",
       "            border-color:  red;\n",
       "        }    #T_1bd7e764_85ae_11ea_98f5_10ddb1c77f91row4_col0 {\n",
       "            text-align:  left;\n",
       "            border-color:  red;\n",
       "        }    #T_1bd7e764_85ae_11ea_98f5_10ddb1c77f91row4_col1 {\n",
       "            text-align:  left;\n",
       "            border-color:  red;\n",
       "        }    #T_1bd7e764_85ae_11ea_98f5_10ddb1c77f91row4_col2 {\n",
       "            text-align:  left;\n",
       "            border-color:  red;\n",
       "        }</style><table id=\"T_1bd7e764_85ae_11ea_98f5_10ddb1c77f91\" ><thead>    <tr>        <th class=\"blank\" ></th>        <th class=\"blank level0\" ></th>        <th class=\"col_heading level0 col0\" >Purchase Count</th>        <th class=\"col_heading level0 col1\" >Item Price</th>        <th class=\"col_heading level0 col2\" >Total Purchase Value</th>    </tr>    <tr>        <th class=\"index_name level0\" >Item ID</th>        <th class=\"index_name level1\" >Item Name</th>        <th class=\"blank\" ></th>        <th class=\"blank\" ></th>        <th class=\"blank\" ></th>    </tr></thead><tbody>\n",
       "                <tr>\n",
       "                        <th id=\"T_1bd7e764_85ae_11ea_98f5_10ddb1c77f91level0_row0\" class=\"row_heading level0 row0\" >92</th>\n",
       "                        <th id=\"T_1bd7e764_85ae_11ea_98f5_10ddb1c77f91level1_row0\" class=\"row_heading level1 row0\" >Final Critic</th>\n",
       "                        <td id=\"T_1bd7e764_85ae_11ea_98f5_10ddb1c77f91row0_col0\" class=\"data row0 col0\" >13</td>\n",
       "                        <td id=\"T_1bd7e764_85ae_11ea_98f5_10ddb1c77f91row0_col1\" class=\"data row0 col1\" >$4.61</td>\n",
       "                        <td id=\"T_1bd7e764_85ae_11ea_98f5_10ddb1c77f91row0_col2\" class=\"data row0 col2\" >$59.99</td>\n",
       "            </tr>\n",
       "            <tr>\n",
       "                        <th id=\"T_1bd7e764_85ae_11ea_98f5_10ddb1c77f91level0_row1\" class=\"row_heading level0 row1\" >178</th>\n",
       "                        <th id=\"T_1bd7e764_85ae_11ea_98f5_10ddb1c77f91level1_row1\" class=\"row_heading level1 row1\" >Oathbreaker, Last Hope of the Breaking Storm</th>\n",
       "                        <td id=\"T_1bd7e764_85ae_11ea_98f5_10ddb1c77f91row1_col0\" class=\"data row1 col0\" >12</td>\n",
       "                        <td id=\"T_1bd7e764_85ae_11ea_98f5_10ddb1c77f91row1_col1\" class=\"data row1 col1\" >$4.23</td>\n",
       "                        <td id=\"T_1bd7e764_85ae_11ea_98f5_10ddb1c77f91row1_col2\" class=\"data row1 col2\" >$50.76</td>\n",
       "            </tr>\n",
       "            <tr>\n",
       "                        <th id=\"T_1bd7e764_85ae_11ea_98f5_10ddb1c77f91level0_row2\" class=\"row_heading level0 row2\" >82</th>\n",
       "                        <th id=\"T_1bd7e764_85ae_11ea_98f5_10ddb1c77f91level1_row2\" class=\"row_heading level1 row2\" >Nirvana</th>\n",
       "                        <td id=\"T_1bd7e764_85ae_11ea_98f5_10ddb1c77f91row2_col0\" class=\"data row2 col0\" >9</td>\n",
       "                        <td id=\"T_1bd7e764_85ae_11ea_98f5_10ddb1c77f91row2_col1\" class=\"data row2 col1\" >$4.90</td>\n",
       "                        <td id=\"T_1bd7e764_85ae_11ea_98f5_10ddb1c77f91row2_col2\" class=\"data row2 col2\" >$44.10</td>\n",
       "            </tr>\n",
       "            <tr>\n",
       "                        <th id=\"T_1bd7e764_85ae_11ea_98f5_10ddb1c77f91level0_row3\" class=\"row_heading level0 row3\" >145</th>\n",
       "                        <th id=\"T_1bd7e764_85ae_11ea_98f5_10ddb1c77f91level1_row3\" class=\"row_heading level1 row3\" >Fiery Glass Crusader</th>\n",
       "                        <td id=\"T_1bd7e764_85ae_11ea_98f5_10ddb1c77f91row3_col0\" class=\"data row3 col0\" >9</td>\n",
       "                        <td id=\"T_1bd7e764_85ae_11ea_98f5_10ddb1c77f91row3_col1\" class=\"data row3 col1\" >$4.58</td>\n",
       "                        <td id=\"T_1bd7e764_85ae_11ea_98f5_10ddb1c77f91row3_col2\" class=\"data row3 col2\" >$41.22</td>\n",
       "            </tr>\n",
       "            <tr>\n",
       "                        <th id=\"T_1bd7e764_85ae_11ea_98f5_10ddb1c77f91level0_row4\" class=\"row_heading level0 row4\" >103</th>\n",
       "                        <th id=\"T_1bd7e764_85ae_11ea_98f5_10ddb1c77f91level1_row4\" class=\"row_heading level1 row4\" >Singed Scalpel</th>\n",
       "                        <td id=\"T_1bd7e764_85ae_11ea_98f5_10ddb1c77f91row4_col0\" class=\"data row4 col0\" >8</td>\n",
       "                        <td id=\"T_1bd7e764_85ae_11ea_98f5_10ddb1c77f91row4_col1\" class=\"data row4 col1\" >$4.35</td>\n",
       "                        <td id=\"T_1bd7e764_85ae_11ea_98f5_10ddb1c77f91row4_col2\" class=\"data row4 col2\" >$34.80</td>\n",
       "            </tr>\n",
       "    </tbody></table>"
      ],
      "text/plain": [
       "<pandas.io.formats.style.Styler at 0x1215861d0>"
      ]
     },
     "execution_count": 55,
     "metadata": {},
     "output_type": "execute_result"
    }
   ],
   "source": [
    "profitable_items = profitable_items.style.format({\"Item Price\":\"${:.2f}\",\n",
    "                                                 \"Total Purchase Value\":\"${:.2f}\"}).set_properties(**{\n",
    "    'text-align': 'left'})\n",
    "profitable_items"
   ]
  }
 ],
 "metadata": {
  "kernelspec": {
   "display_name": "Python 3",
   "language": "python",
   "name": "python3"
  },
  "language_info": {
   "codemirror_mode": {
    "name": "ipython",
    "version": 3
   },
   "file_extension": ".py",
   "mimetype": "text/x-python",
   "name": "python",
   "nbconvert_exporter": "python",
   "pygments_lexer": "ipython3",
   "version": "3.7.6"
  }
 },
 "nbformat": 4,
 "nbformat_minor": 4
}
